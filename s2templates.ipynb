{
  "nbformat": 4,
  "nbformat_minor": 0,
  "metadata": {
    "colab": {
      "name": "templates.ipynb",
      "provenance": [],
      "authorship_tag": "ABX9TyNFTI8wi3TWkrGUaM8dk/J7",
      "include_colab_link": true
    },
    "kernelspec": {
      "name": "python3",
      "display_name": "Python 3"
    },
    "language_info": {
      "name": "python"
    }
  },
  "cells": [
    {
      "cell_type": "markdown",
      "metadata": {
        "id": "view-in-github",
        "colab_type": "text"
      },
      "source": [
        "<a href=\"https://colab.research.google.com/github/Josafat-LM/Algoritmos/blob/main/s2templates.ipynb\" target=\"_parent\"><img src=\"https://colab.research.google.com/assets/colab-badge.svg\" alt=\"Open In Colab\"/></a>"
      ]
    },
    {
      "cell_type": "code",
      "execution_count": 6,
      "metadata": {
        "colab": {
          "base_uri": "https://localhost:8080/"
        },
        "id": "l0uZxsKXb7XF",
        "outputId": "a31ab02d-9c2c-454c-dd1d-34f974caad58"
      },
      "outputs": [
        {
          "output_type": "stream",
          "name": "stdout",
          "text": [
            "Overwriting ejem.cpp\n"
          ]
        }
      ],
      "source": [
        "%%writefile ejem.cpp\n",
        "#include <iostream>\n",
        "using namespace std;\n",
        "int main(){\n",
        "    cout<<\"Peru 2-1 Paraguay\";\n",
        "    return 0;\n",
        "}\n"
      ]
    },
    {
      "cell_type": "code",
      "source": [
        "!g++ ejem.cpp && ./a.out"
      ],
      "metadata": {
        "colab": {
          "base_uri": "https://localhost:8080/"
        },
        "id": "JFYkGjzne1mz",
        "outputId": "90f94f12-97d2-4755-c20d-be920e420fcf"
      },
      "execution_count": 4,
      "outputs": [
        {
          "output_type": "stream",
          "name": "stdout",
          "text": [
            "Peru 2-1 Paraguay"
          ]
        }
      ]
    },
    {
      "cell_type": "markdown",
      "source": [
        "========================================\n",
        "\n",
        "\n",
        "EJEMPLO 2 "
      ],
      "metadata": {
        "id": "ZclQ9GhUmNQG"
      }
    },
    {
      "cell_type": "code",
      "source": [
        "%%writefile biblioteca.hpp\n",
        "#include <iostream>\n",
        "#include <cstdlib>// srand, rand\n",
        "#include <ctime>//time\n",
        "\n",
        "using std::cout;\n",
        "using std::cin;\n",
        "//definición de la funcion\n",
        "void generar(short* a, size_t n);\n",
        "void listar(short*, size_t);\n",
        "void mayor(short*, size_t);\n",
        "void ordenar(short*, size_t);\n",
        "void mayorPromedio(short* a, size_t n);"
      ],
      "metadata": {
        "colab": {
          "base_uri": "https://localhost:8080/"
        },
        "id": "SZAcNEXkiDJQ",
        "outputId": "b490c309-9f32-4803-d901-0a09f7fa9206"
      },
      "execution_count": 13,
      "outputs": [
        {
          "output_type": "stream",
          "name": "stdout",
          "text": [
            "Overwriting biblioteca.hpp\n"
          ]
        }
      ]
    },
    {
      "cell_type": "code",
      "source": [
        "%%writefile biblioteca.cpp\n",
        "#include \"biblioteca.hpp\"\n",
        "\n",
        "void generar(short* a, size_t n){\n",
        "  for(size_t i=0;i<n;++i){\n",
        "      a[i]=rand()%101+100;//rango de 100 a 200    \n",
        "  }  \n",
        "}\n",
        "\n",
        "void listar(short* a, size_t n){\n",
        "for(size_t i=0;i<n;++i){\n",
        "      cout<<i<<\"-> \"<<a[i]<<\"\\n\";\n",
        "  }  \n",
        "}\n",
        "\n",
        "void mayor(short* a, size_t n){\n",
        "  short _mayor=a[0], _pos=-1;\n",
        "  \n",
        "for(size_t i=1;i<n;++i){\n",
        "  if(a[i]>_mayor){\n",
        "      _mayor=a[i];//actualizo el mayor\n",
        "      _pos=i;\n",
        "    }\n",
        "  }\n",
        "  cout<<\"El mayor valor es\"<<_mayor<<\" y se encuentra en la posicion\"<<_pos<<\"\\n\";\n",
        "}\n",
        "void ordenar(short* a, size_t n){\n",
        "  for(int i=0;i<n-1;++i){\n",
        "  for(int j=i+1;j<n;++j){\n",
        "   if(a[i]>a[j]){\n",
        "    short aux=a[i];\n",
        "    a[i]=a[j];\n",
        "    a[j]=aux;\n",
        "  }\n",
        "}\n",
        "    }\n",
        "}\n",
        "void mayorPromedio(short* a, size_t n){\n",
        "  float prom=0.0f;    \n",
        "  //obteniendo el promedio\n",
        "  for(int i=0;i<n-1;++i)\n",
        "        prom+=a[i];\n",
        "  prom/=n;//prom=prom/n   \n",
        "  //listar mayor al promedio\n",
        "  for(int i=0;i<n-1;++i)\n",
        "        if(a[i]>prom)cout<<i<<\"->\"<<a[i]<<\"\\n\";\n",
        "  }"
      ],
      "metadata": {
        "colab": {
          "base_uri": "https://localhost:8080/"
        },
        "id": "WgV1Gky5mcPn",
        "outputId": "7654975b-6f31-44da-c503-f451e5def19a"
      },
      "execution_count": 14,
      "outputs": [
        {
          "output_type": "stream",
          "name": "stdout",
          "text": [
            "Overwriting biblioteca.cpp\n"
          ]
        }
      ]
    },
    {
      "cell_type": "code",
      "source": [
        "%%writefile ejem2.cpp\n",
        "#include \"biblioteca.cpp\"\n",
        "int main() {\n",
        "short* arreglo=new short[100];  \n",
        "srand(time(NULL));//inicializacion de la semilla\n",
        "generar(arreglo,100);\n",
        "listar(arreglo, 100);\n",
        "//mayor(arreglo, 100);  \n",
        "ordenar(arreglo, 100);\n",
        "cout<<\"-------------\\n\";\n",
        "//listar(arreglo, 100);\n",
        "  mayorPromedio(arreglo, 100);\n",
        "}"
      ],
      "metadata": {
        "colab": {
          "base_uri": "https://localhost:8080/"
        },
        "id": "VD4A2T41mtpF",
        "outputId": "d31c606e-e6d3-4379-8e8c-5d4933cfeb95"
      },
      "execution_count": 20,
      "outputs": [
        {
          "output_type": "stream",
          "name": "stdout",
          "text": [
            "Overwriting ejem2.cpp\n"
          ]
        }
      ]
    },
    {
      "cell_type": "markdown",
      "source": [
        "======================================="
      ],
      "metadata": {
        "id": "FlMfnrJaqLQi"
      }
    },
    {
      "cell_type": "code",
      "source": [
        "%%writefile Biblioteca.hpp\n",
        "#include <iostream>\n",
        "#include <cstdlib>// srand, rand\n",
        "#include <ctime>//time\n",
        "using std::cout;\n",
        "using std::cin;\n",
        "\n",
        "template <typename Generico>\n",
        "class Arreglo{\n",
        "    Generico* a;\n",
        "    size_t id;\n",
        "    size_t n;\n",
        "    public:\n",
        "    Arreglo(){\n",
        "        n=10;\n",
        "        a=new Generico[n];\n",
        "        id=0;\n",
        "    }\n",
        "    void insertar(Generico e){\n",
        "        if(id<n)\n",
        "          a[id++]=e; \n",
        "    }\n",
        "    void listar(){\n",
        "        for(size_t i=0;i<n;++i){\n",
        "            cout<<i<<\"-> \"<<a[i]<<\"\\n\";\n",
        "          } \n",
        "    }\n",
        "    \n",
        "\n",
        "};"
      ],
      "metadata": {
        "colab": {
          "base_uri": "https://localhost:8080/"
        },
        "id": "v977JuK8qPKM",
        "outputId": "ff4f3e03-ff2f-4da2-dc0a-7a72218de6c5"
      },
      "execution_count": 49,
      "outputs": [
        {
          "output_type": "stream",
          "name": "stdout",
          "text": [
            "Overwriting Biblioteca.hpp\n"
          ]
        }
      ]
    },
    {
      "cell_type": "code",
      "source": [
        "%%writefile ejem3.cpp\n",
        "#include <iostream>\n",
        "#include \"Biblioteca.hpp\"\n",
        "\n",
        "int main(){\n",
        "    Arreglo<short>*arr1=new Arreglo<short>();\n",
        "    for(size_t i=0;i<10;++i){\n",
        "      arr1->insertar(1);\n",
        "    }\n",
        "    arr1->listar();\n",
        "return 0;\n",
        "} "
      ],
      "metadata": {
        "colab": {
          "base_uri": "https://localhost:8080/"
        },
        "id": "F8KUuCV-wF9w",
        "outputId": "9b807447-2e0d-436d-981b-14ea3e2f954c"
      },
      "execution_count": 50,
      "outputs": [
        {
          "output_type": "stream",
          "name": "stdout",
          "text": [
            "Overwriting ejem3.cpp\n"
          ]
        }
      ]
    },
    {
      "cell_type": "code",
      "source": [
        "!g++ ejem3.cpp && ./a.out"
      ],
      "metadata": {
        "colab": {
          "base_uri": "https://localhost:8080/"
        },
        "id": "DDYjfM4xw0T4",
        "outputId": "0f4790df-da4d-4807-f975-12a4368c1fb2"
      },
      "execution_count": 51,
      "outputs": [
        {
          "output_type": "stream",
          "name": "stdout",
          "text": [
            "0-> 1\n",
            "1-> 1\n",
            "2-> 1\n",
            "3-> 1\n",
            "4-> 1\n",
            "5-> 1\n",
            "6-> 1\n",
            "7-> 1\n",
            "8-> 1\n",
            "9-> 1\n"
          ]
        }
      ]
    }
  ]
}