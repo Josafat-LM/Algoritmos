{
  "nbformat": 4,
  "nbformat_minor": 0,
  "metadata": {
    "colab": {
      "name": "Untitled0.ipynb",
      "provenance": [],
      "authorship_tag": "ABX9TyNm0I2zFhl7dItt4laotBdd",
      "include_colab_link": true
    },
    "kernelspec": {
      "name": "python3",
      "display_name": "Python 3"
    },
    "language_info": {
      "name": "python"
    }
  },
  "cells": [
    {
      "cell_type": "markdown",
      "metadata": {
        "id": "view-in-github",
        "colab_type": "text"
      },
      "source": [
        "<a href=\"https://colab.research.google.com/github/Josafat-LM/Algoritmos/blob/main/Lamdas.ipynb\" target=\"_parent\"><img src=\"https://colab.research.google.com/assets/colab-badge.svg\" alt=\"Open In Colab\"/></a>"
      ]
    },
    {
      "cell_type": "code",
      "execution_count": 5,
      "metadata": {
        "id": "btxU25i34W-0",
        "colab": {
          "base_uri": "https://localhost:8080/"
        },
        "outputId": "8e0ad5a7-6f7d-42d4-c32d-397c55d13ba7"
      },
      "outputs": [
        {
          "output_type": "stream",
          "name": "stdout",
          "text": [
            "Overwriting ejercicio1.cpp\n"
          ]
        }
      ],
      "source": [
        "%%writefile ejercicio1.cpp\n",
        "#include <functional>\n",
        "#include <iostream>\n",
        "using namespace std;\n",
        "\n",
        "void salir(function<void()>f){f();}\n",
        "\n",
        "int main(){\n",
        "\n",
        "function<void()> Mujeres=[](){cout<<\"salen las mujeres\";};\n",
        "function<void()> Hombres=[](){cout<<\"salen las hombres\";};\n",
        "\n",
        "short dia;    \n",
        "cout<<\"ingrese dia: \";\n",
        "cin>> dia;\n",
        "switch(dia){\n",
        "    case 1:case 3: case 5:salir(Hombres) ;break;\n",
        "    case 2: case 4: case 6:salir(Mujeres) ;break;\n",
        "}\n",
        "\n",
        "}"
      ]
    },
    {
      "cell_type": "code",
      "source": [
        "!g++ ejercicio1.cpp && ./a.out"
      ],
      "metadata": {
        "colab": {
          "base_uri": "https://localhost:8080/"
        },
        "id": "l0AdaFkkTtUG",
        "outputId": "a0e85e9b-cf09-4a4d-9a7e-b1ae08006541"
      },
      "execution_count": 6,
      "outputs": [
        {
          "output_type": "stream",
          "name": "stdout",
          "text": [
            "ingrese dia: 3\n",
            "salen las hombres"
          ]
        }
      ]
    }
  ]
}